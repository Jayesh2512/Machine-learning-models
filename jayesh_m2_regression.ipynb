{
  "nbformat": 4,
  "nbformat_minor": 0,
  "metadata": {
    "colab": {
      "provenance": []
    },
    "kernelspec": {
      "name": "python3",
      "display_name": "Python 3"
    },
    "language_info": {
      "name": "python"
    }
  },
  "cells": [
    {
      "cell_type": "code",
      "source": [
        "# common imports\n",
        "import numpy as np\n",
        "import pandas as pd\n",
        "\n",
        "from sklearn.model_selection import train_test_split, cross_val_score, GridSearchCV, KFold\n",
        "from sklearn.preprocessing import StandardScaler, OneHotEncoder\n",
        "from sklearn.compose import ColumnTransformer\n",
        "from sklearn.pipeline import Pipeline\n",
        "from sklearn.metrics import (\n",
        "    accuracy_score, roc_auc_score, classification_report,\n",
        "    mean_squared_error, mean_absolute_error, r2_score,\n",
        "    silhouette_score, davies_bouldin_score\n",
        ")\n",
        "import matplotlib.pyplot as plt\n",
        "\n",
        "# optional: make plots inline if in notebook\n",
        "# %matplotlib inline\n"
      ],
      "metadata": {
        "id": "xxg6_HWXZJC_"
      },
      "execution_count": 2,
      "outputs": []
    },
    {
      "cell_type": "code",
      "execution_count": 3,
      "metadata": {
        "colab": {
          "base_uri": "https://localhost:8080/"
        },
        "id": "PISFjJtFZBXn",
        "outputId": "bd615d44-da1a-424b-b596-abbfe962ed51"
      },
      "outputs": [
        {
          "output_type": "stream",
          "name": "stdout",
          "text": [
            "Ridge: RMSE=0.334, MAE=0.253, R2=0.659\n",
            "Lasso: RMSE=0.341, MAE=0.261, R2=0.644\n",
            "RandomForest: RMSE=0.232, MAE=0.156, R2=0.836\n",
            "GradientBoosting: RMSE=0.269, MAE=0.195, R2=0.780\n"
          ]
        }
      ],
      "source": [
        "# 2.1 Load Data\n",
        "houses = pd.read_csv('https://raw.githubusercontent.com/ageron/handson-ml2/master/datasets/housing/housing.csv',\n",
        "                     na_values='?')\n",
        "# (Alternatively use the Kaggle competition CSV if you have API access.)\n",
        "# For demo, we'll use the StatLib housing dataset.\n",
        "\n",
        "# 2.2 Preprocessing & feature engineering\n",
        "houses = houses.dropna(subset=['median_house_value'])  # target must be present\n",
        "y = np.log1p(houses['median_house_value'])\n",
        "X = houses.drop('median_house_value', axis=1)\n",
        "\n",
        "# identify numeric and categorical\n",
        "num_cols = X.select_dtypes(include=['int64','float64']).columns.tolist()\n",
        "cat_cols = X.select_dtypes(include=['object']).columns.tolist()\n",
        "\n",
        "numeric_transformer = Pipeline([\n",
        "    ('imputer',            # here simple fill with median\n",
        "     __import__('sklearn').impute.SimpleImputer(strategy='median')),\n",
        "    ('scaler', StandardScaler())\n",
        "])\n",
        "categorical_transformer = Pipeline([\n",
        "    ('imputer', __import__('sklearn').impute.SimpleImputer(strategy='most_frequent')),\n",
        "    ('onehot', OneHotEncoder(handle_unknown='ignore'))\n",
        "])\n",
        "preprocessor = ColumnTransformer([\n",
        "    ('num', numeric_transformer, num_cols),\n",
        "    ('cat', categorical_transformer, cat_cols),\n",
        "])\n",
        "\n",
        "# 2.3 Models to compare\n",
        "from sklearn.linear_model import Ridge, Lasso\n",
        "from sklearn.ensemble import RandomForestRegressor, GradientBoostingRegressor\n",
        "\n",
        "regressors = {\n",
        "    'Ridge': Ridge(alpha=1.0, random_state=42),\n",
        "    'Lasso': Lasso(alpha=0.01, random_state=42),\n",
        "    'RandomForest': RandomForestRegressor(n_estimators=100, random_state=42),\n",
        "    'GradientBoosting': GradientBoostingRegressor(n_estimators=100, random_state=42)\n",
        "}\n",
        "\n",
        "# 2.4 Train/test split\n",
        "X_train, X_test, y_train, y_test = train_test_split(X, y, random_state=42)\n",
        "\n",
        "# 2.5 Fit & evaluate\n",
        "for name, reg in regressors.items():\n",
        "    pipe = Pipeline([\n",
        "        ('pre', preprocessor),\n",
        "        ('reg', reg)\n",
        "    ])\n",
        "    pipe.fit(X_train, y_train)\n",
        "    y_pred = pipe.predict(X_test)\n",
        "    rmse = np.sqrt(mean_squared_error(y_test, y_pred))\n",
        "    mae  = mean_absolute_error(y_test, y_pred)\n",
        "    r2   = r2_score(y_test, y_pred)\n",
        "    print(f\"{name}: RMSE={rmse:.3f}, MAE={mae:.3f}, R2={r2:.3f}\")\n"
      ]
    }
  ]
}